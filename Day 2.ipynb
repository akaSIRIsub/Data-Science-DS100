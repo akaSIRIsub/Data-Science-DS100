{
 "cells": [
  {
   "cell_type": "markdown",
   "id": "341b7f39",
   "metadata": {},
   "source": [
    "Topics to be cover\n",
    "\n",
    "1] Creating Variables\n",
    "\n",
    "2] Data Types - string\n",
    "\n",
    "3] Use of Type()\n",
    "\n",
    "4] Changing data types\n",
    "\n",
    "5] String as Array\n",
    "\n",
    "6] Indexing\n",
    "\n",
    "7] string Length\n",
    "\n",
    "8] strip\n",
    "\n",
    "9] split\n",
    "\n",
    "10] Concatenation\n",
    "\n",
    "11] Replacing text\n"
   ]
  },
  {
   "cell_type": "markdown",
   "id": "f55da819",
   "metadata": {},
   "source": [
    "Creating Variables checking data type"
   ]
  },
  {
   "cell_type": "code",
   "execution_count": 8,
   "id": "e3e317e0",
   "metadata": {
    "scrolled": true
   },
   "outputs": [
    {
     "data": {
      "text/plain": [
       "str"
      ]
     },
     "execution_count": 8,
     "metadata": {},
     "output_type": "execute_result"
    }
   ],
   "source": [
    "input1 = 12\n",
    "input2 = 1.2\n",
    "input3 = \"Data Science aKa DS100\"\n",
    "type(input3)"
   ]
  },
  {
   "cell_type": "markdown",
   "id": "2a030be3",
   "metadata": {},
   "source": [
    "Changing String to numeric data type"
   ]
  },
  {
   "cell_type": "code",
   "execution_count": 5,
   "id": "21e31e6a",
   "metadata": {},
   "outputs": [
    {
     "name": "stdout",
     "output_type": "stream",
     "text": [
      "<class 'float'>\n"
     ]
    }
   ],
   "source": [
    "intput4 = \"12\"\n",
    "print(type(float(intput4)))"
   ]
  },
  {
   "cell_type": "markdown",
   "id": "e183d45c",
   "metadata": {},
   "source": [
    "String are treated like Array / Indexing"
   ]
  },
  {
   "cell_type": "code",
   "execution_count": 20,
   "id": "1d06cb5a",
   "metadata": {},
   "outputs": [
    {
     "name": "stdout",
     "output_type": "stream",
     "text": [
      "Data\n"
     ]
    }
   ],
   "source": [
    "print(input3[0:4])"
   ]
  },
  {
   "cell_type": "code",
   "execution_count": 32,
   "id": "6b70b537",
   "metadata": {},
   "outputs": [
    {
     "name": "stdout",
     "output_type": "stream",
     "text": [
      " aKa DS100\n"
     ]
    }
   ],
   "source": [
    "print(input3[-10:])"
   ]
  },
  {
   "cell_type": "code",
   "execution_count": 35,
   "id": "ec3e612d",
   "metadata": {},
   "outputs": [
    {
     "name": "stdout",
     "output_type": "stream",
     "text": [
      "22\n"
     ]
    }
   ],
   "source": [
    "print(len(input3))"
   ]
  },
  {
   "cell_type": "markdown",
   "id": "af281e8a",
   "metadata": {},
   "source": [
    "Strip - to remove extra spaces in the beginning and end"
   ]
  },
  {
   "cell_type": "code",
   "execution_count": 37,
   "id": "dad16174",
   "metadata": {},
   "outputs": [
    {
     "name": "stdout",
     "output_type": "stream",
     "text": [
      "     Data Science    \n",
      "Data Science\n"
     ]
    }
   ],
   "source": [
    "txt = \"     Data Science    \"\n",
    "print(txt)\n",
    "print(txt.strip())"
   ]
  },
  {
   "cell_type": "markdown",
   "id": "d64bea91",
   "metadata": {},
   "source": [
    "Spliting"
   ]
  },
  {
   "cell_type": "code",
   "execution_count": 39,
   "id": "8932a4f9",
   "metadata": {},
   "outputs": [
    {
     "name": "stdout",
     "output_type": "stream",
     "text": [
      "['2020', '12', '16']\n"
     ]
    }
   ],
   "source": [
    "input5 = \"2020-12-16\"\n",
    "print(input5.split(\"-\"))"
   ]
  },
  {
   "cell_type": "markdown",
   "id": "25ee6d81",
   "metadata": {},
   "source": [
    "Concatenation"
   ]
  },
  {
   "cell_type": "code",
   "execution_count": 1,
   "id": "ce7c95b4",
   "metadata": {},
   "outputs": [
    {
     "name": "stdout",
     "output_type": "stream",
     "text": [
      "Data Science\n"
     ]
    }
   ],
   "source": [
    "a = \"Data\"\n",
    "b = \"Science\"\n",
    "print(a+\" \"+b)"
   ]
  },
  {
   "cell_type": "markdown",
   "id": "e8c0dd71",
   "metadata": {},
   "source": [
    "Replacing text"
   ]
  },
  {
   "cell_type": "code",
   "execution_count": 2,
   "id": "602562fc",
   "metadata": {},
   "outputs": [
    {
     "name": "stdout",
     "output_type": "stream",
     "text": [
      "If you Get a job, Then practice hard,Get Get Get\n"
     ]
    }
   ],
   "source": [
    "txt = \"If you Need a job, Then practice hard,Need Need Need\"\n",
    "txt1 = txt.replace(\"Need\",\"Get\")\n",
    "print(txt1)"
   ]
  },
  {
   "cell_type": "markdown",
   "id": "c9bdc221",
   "metadata": {},
   "source": [
    "**Homework**\n",
    "\n",
    "To Try\n",
    "\n",
    "1] Define a number as a string\n",
    "2] Convert the above to numeric\n",
    "3] Create a variable with a decimal number\n",
    "4] Split the above decimal number into 2 (before decimal and after decimal point)\n",
    "5] Copy a random sentence and pass it to a variable\n",
    "6] Identify a specific words thats gets repeated and replace it with your name"
   ]
  },
  {
   "cell_type": "code",
   "execution_count": 3,
   "id": "0b64b9f3",
   "metadata": {},
   "outputs": [
    {
     "name": "stdout",
     "output_type": "stream",
     "text": [
      "<class 'float'>\n"
     ]
    }
   ],
   "source": [
    "num1 = \"22\"\n",
    "print(type(float(num1)))"
   ]
  },
  {
   "cell_type": "code",
   "execution_count": 8,
   "id": "a3b85fad",
   "metadata": {},
   "outputs": [
    {
     "name": "stdout",
     "output_type": "stream",
     "text": [
      "['23', '4']\n"
     ]
    }
   ],
   "source": [
    "num2 = \"23.4\"\n",
    "print(num2.split(\".\"))"
   ]
  },
  {
   "cell_type": "code",
   "execution_count": 1,
   "id": "01858e4e",
   "metadata": {},
   "outputs": [
    {
     "name": "stdout",
     "output_type": "stream",
     "text": [
      "Once Shriniket stop learning, Shriniket start dying\n"
     ]
    }
   ],
   "source": [
    "num3 = \"Once you stop learning, you start dying\"\n",
    "num4 = num3.replace(\"you\",\"Shriniket\")\n",
    "print(num4)"
   ]
  },
  {
   "cell_type": "code",
   "execution_count": null,
   "id": "2e4abbf2",
   "metadata": {},
   "outputs": [],
   "source": []
  }
 ],
 "metadata": {
  "kernelspec": {
   "display_name": "Python 3 (ipykernel)",
   "language": "python",
   "name": "python3"
  },
  "language_info": {
   "codemirror_mode": {
    "name": "ipython",
    "version": 3
   },
   "file_extension": ".py",
   "mimetype": "text/x-python",
   "name": "python",
   "nbconvert_exporter": "python",
   "pygments_lexer": "ipython3",
   "version": "3.9.7"
  }
 },
 "nbformat": 4,
 "nbformat_minor": 5
}
