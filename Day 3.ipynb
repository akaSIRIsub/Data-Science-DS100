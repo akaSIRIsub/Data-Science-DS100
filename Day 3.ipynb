{
 "cells": [
  {
   "cell_type": "markdown",
   "id": "6db02993",
   "metadata": {},
   "source": [
    " Topics\n",
    " \n",
    " 1] Numeric data type\n",
    " 2] Boolean\n",
    " 3] Operators\n",
    " "
   ]
  },
  {
   "cell_type": "markdown",
   "id": "afbc33dc",
   "metadata": {},
   "source": [
    "1a. Define variable and find data type"
   ]
  },
  {
   "cell_type": "code",
   "execution_count": 4,
   "id": "fe8c8242",
   "metadata": {},
   "outputs": [
    {
     "name": "stdout",
     "output_type": "stream",
     "text": [
      "<class 'int'>\n",
      "<class 'float'>\n"
     ]
    }
   ],
   "source": [
    "input1 = 20 \n",
    "print(type(input1))\n",
    "input2 = 20.23\n",
    "print(type(input2))"
   ]
  },
  {
   "cell_type": "markdown",
   "id": "628112b2",
   "metadata": {},
   "source": [
    "1b. Casting(Changing) to a different datatype"
   ]
  },
  {
   "cell_type": "code",
   "execution_count": 7,
   "id": "1dae9ded",
   "metadata": {},
   "outputs": [
    {
     "name": "stdout",
     "output_type": "stream",
     "text": [
      "20.0\n"
     ]
    }
   ],
   "source": [
    "input3 = float(intput1)\n",
    "print(input3)"
   ]
  },
  {
   "cell_type": "code",
   "execution_count": 9,
   "id": "52704b7a",
   "metadata": {},
   "outputs": [
    {
     "name": "stdout",
     "output_type": "stream",
     "text": [
      "20\n"
     ]
    }
   ],
   "source": [
    "input4 = int(input2)\n",
    "print(input4)"
   ]
  },
  {
   "cell_type": "code",
   "execution_count": 10,
   "id": "10393871",
   "metadata": {},
   "outputs": [
    {
     "name": "stdout",
     "output_type": "stream",
     "text": [
      "20\n"
     ]
    }
   ],
   "source": [
    "#what if it is 20.90\n",
    "input5 = 20.90\n",
    "input6 = int(input5)\n",
    "print(input6)"
   ]
  },
  {
   "cell_type": "markdown",
   "id": "08affc6b",
   "metadata": {},
   "source": [
    "2.Boolean Operator"
   ]
  },
  {
   "cell_type": "code",
   "execution_count": 11,
   "id": "40f8e212",
   "metadata": {},
   "outputs": [
    {
     "name": "stdout",
     "output_type": "stream",
     "text": [
      "False\n"
     ]
    }
   ],
   "source": [
    "print(input1 > input2)"
   ]
  },
  {
   "cell_type": "code",
   "execution_count": 12,
   "id": "7d8891e1",
   "metadata": {},
   "outputs": [
    {
     "name": "stdout",
     "output_type": "stream",
     "text": [
      "True\n"
     ]
    }
   ],
   "source": [
    "print(input1 < input2)"
   ]
  },
  {
   "cell_type": "code",
   "execution_count": 17,
   "id": "8008aff9",
   "metadata": {},
   "outputs": [
    {
     "name": "stdout",
     "output_type": "stream",
     "text": [
      "True\n"
     ]
    }
   ],
   "source": [
    "print(bool(input1))"
   ]
  },
  {
   "cell_type": "code",
   "execution_count": 16,
   "id": "de7146ef",
   "metadata": {},
   "outputs": [
    {
     "name": "stdout",
     "output_type": "stream",
     "text": [
      "False\n"
     ]
    }
   ],
   "source": [
    "a = None\n",
    "print(bool(a))"
   ]
  },
  {
   "cell_type": "code",
   "execution_count": 18,
   "id": "2166b043",
   "metadata": {},
   "outputs": [
    {
     "name": "stdout",
     "output_type": "stream",
     "text": [
      "True\n"
     ]
    }
   ],
   "source": [
    "input3 = [1,3,3,4,5,5]\n",
    "print(bool(input3))"
   ]
  },
  {
   "cell_type": "code",
   "execution_count": 21,
   "id": "c792a968",
   "metadata": {},
   "outputs": [
    {
     "name": "stdout",
     "output_type": "stream",
     "text": [
      "False\n"
     ]
    }
   ],
   "source": [
    "input4 = []\n",
    "print(bool(input4))"
   ]
  },
  {
   "cell_type": "markdown",
   "id": "a3229b8d",
   "metadata": {},
   "source": [
    "3a. Arthimetic Operator\n",
    "Addition, Substraction, Multiplication, Division, mod and exp"
   ]
  },
  {
   "cell_type": "code",
   "execution_count": 26,
   "id": "62325cbd",
   "metadata": {},
   "outputs": [
    {
     "name": "stdout",
     "output_type": "stream",
     "text": [
      "-4\n",
      "8\n",
      "12\n",
      "64\n",
      "0.3333333333333333\n",
      "0\n",
      "2\n"
     ]
    }
   ],
   "source": [
    "a = 2\n",
    "b = 6\n",
    "print(a-b)\n",
    "print(a+b)\n",
    "print(a*b)\n",
    "print(a**b)\n",
    "print(a/b)\n",
    "print(a//b)\n",
    "print(a%b)"
   ]
  },
  {
   "cell_type": "markdown",
   "id": "17968729",
   "metadata": {},
   "source": [
    "3b. Assignment Operator"
   ]
  },
  {
   "cell_type": "code",
   "execution_count": 27,
   "id": "d7997fe7",
   "metadata": {},
   "outputs": [
    {
     "name": "stdout",
     "output_type": "stream",
     "text": [
      "7\n"
     ]
    }
   ],
   "source": [
    "x = 10\n",
    "x -= 3 #x=x-3\n",
    "print(x)"
   ]
  },
  {
   "cell_type": "code",
   "execution_count": 28,
   "id": "e057d7e8",
   "metadata": {},
   "outputs": [
    {
     "name": "stdout",
     "output_type": "stream",
     "text": [
      "13\n"
     ]
    }
   ],
   "source": [
    "y = 10\n",
    "y += 3 #y=y+3\n",
    "print(y)"
   ]
  },
  {
   "cell_type": "code",
   "execution_count": 30,
   "id": "065ca86b",
   "metadata": {},
   "outputs": [
    {
     "name": "stdout",
     "output_type": "stream",
     "text": [
      "1000\n"
     ]
    }
   ],
   "source": [
    "z = 10\n",
    "z **= 3 #z=z*3 or z=z**3\n",
    "print(z)"
   ]
  },
  {
   "cell_type": "markdown",
   "id": "cfa0ea77",
   "metadata": {},
   "source": [
    "3c. Comparison Operators"
   ]
  },
  {
   "cell_type": "code",
   "execution_count": 35,
   "id": "0e9d46bb",
   "metadata": {},
   "outputs": [
    {
     "name": "stdout",
     "output_type": "stream",
     "text": [
      "False\n",
      "True\n",
      "False\n",
      "True\n"
     ]
    }
   ],
   "source": [
    "a = 3\n",
    "b = 4\n",
    "print(a == b)\n",
    "print(a!=b)\n",
    "print(a>=b)\n",
    "print(a<=b)"
   ]
  },
  {
   "cell_type": "markdown",
   "id": "54e40e59",
   "metadata": {},
   "source": [
    "3d. Logical Operator"
   ]
  },
  {
   "cell_type": "code",
   "execution_count": 1,
   "id": "5753c604",
   "metadata": {},
   "outputs": [
    {
     "name": "stdout",
     "output_type": "stream",
     "text": [
      "False\n",
      "True\n"
     ]
    }
   ],
   "source": [
    "x = 5\n",
    "print(x>10 and x<15)\n",
    "print(x>10 or x<15)\n",
    "#and or not"
   ]
  },
  {
   "cell_type": "markdown",
   "id": "9aae0a80",
   "metadata": {},
   "source": [
    "3e. is and in Operator"
   ]
  },
  {
   "cell_type": "code",
   "execution_count": 8,
   "id": "aa9dadca",
   "metadata": {},
   "outputs": [
    {
     "name": "stdout",
     "output_type": "stream",
     "text": [
      "False\n",
      "True\n",
      "True\n",
      "True\n",
      "['Addition', 'Multiplication', 'Substraction', 'Division']\n"
     ]
    }
   ],
   "source": [
    "x = ['Addition', 'Multiplication', 'Substraction', 'Division']\n",
    "y = ['Addition', 'Multiplication', 'Substraction', 'Division']\n",
    "z = y\n",
    "print(x is y)\n",
    "print(z is y)\n",
    "\n",
    "print(\"Addition\" in y)\n",
    "print(\"Multiplication\" in x)\n",
    "\n",
    "print(z)"
   ]
  },
  {
   "cell_type": "markdown",
   "id": "ded3dbd2",
   "metadata": {},
   "source": [
    "*Practice Homework*\n",
    "\n",
    "1.Create a float variable and convert it to integer.\n",
    "2.Multple a float value with intger and check the data type of the resultant value.\n"
   ]
  },
  {
   "cell_type": "code",
   "execution_count": 3,
   "id": "8c0da0fc",
   "metadata": {},
   "outputs": [
    {
     "name": "stdout",
     "output_type": "stream",
     "text": [
      "<class 'float'>\n"
     ]
    }
   ],
   "source": [
    "# Solution of 1st\n",
    "txt = 20.3\n",
    "print(type(txt))"
   ]
  },
  {
   "cell_type": "code",
   "execution_count": 4,
   "id": "d25c4afa",
   "metadata": {},
   "outputs": [
    {
     "name": "stdout",
     "output_type": "stream",
     "text": [
      "<class 'int'>\n"
     ]
    }
   ],
   "source": [
    "txt1 = int(txt)\n",
    "print(type(txt1))"
   ]
  },
  {
   "cell_type": "code",
   "execution_count": 5,
   "id": "7a38d676",
   "metadata": {},
   "outputs": [
    {
     "name": "stdout",
     "output_type": "stream",
     "text": [
      "<class 'float'>\n"
     ]
    }
   ],
   "source": [
    "# Solution of 2nd\n",
    "txt2 = 20.3\n",
    "txt3 = 20\n",
    "txt4 = txt2 * txt3\n",
    "print(type(txt4))"
   ]
  },
  {
   "cell_type": "code",
   "execution_count": 6,
   "id": "0bd5ea2e",
   "metadata": {},
   "outputs": [
    {
     "name": "stdout",
     "output_type": "stream",
     "text": [
      "False\n"
     ]
    }
   ],
   "source": [
    "# Solution of 3rd \n",
    "txt5 = 23\n",
    "txt6 = 23.57\n",
    "print(txt5 > txt6)"
   ]
  }
 ],
 "metadata": {
  "kernelspec": {
   "display_name": "Python 3 (ipykernel)",
   "language": "python",
   "name": "python3"
  },
  "language_info": {
   "codemirror_mode": {
    "name": "ipython",
    "version": 3
   },
   "file_extension": ".py",
   "mimetype": "text/x-python",
   "name": "python",
   "nbconvert_exporter": "python",
   "pygments_lexer": "ipython3",
   "version": "3.9.7"
  }
 },
 "nbformat": 4,
 "nbformat_minor": 5
}
