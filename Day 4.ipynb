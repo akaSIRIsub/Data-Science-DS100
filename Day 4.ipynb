{
 "cells": [
  {
   "cell_type": "markdown",
   "id": "81ee4662",
   "metadata": {},
   "source": [
    "**Topics**\n",
    "\n",
    "1] List\n",
    "    i. Commonly used\n",
    "    ii.sortable\n",
    "    iii.Mutable (can add or Change)\n",
    "2] Tuples\n",
    "    i. Immutable\n",
    "    ii. Useful where the data doesn't change\n",
    "    iii. Sequence Type\n",
    "    "
   ]
  },
  {
   "cell_type": "markdown",
   "id": "7f1d2ba5",
   "metadata": {},
   "source": [
    "1a. Creating a List "
   ]
  },
  {
   "cell_type": "code",
   "execution_count": 4,
   "id": "08e893e5",
   "metadata": {},
   "outputs": [
    {
     "data": {
      "text/plain": [
       "list"
      ]
     },
     "execution_count": 4,
     "metadata": {},
     "output_type": "execute_result"
    }
   ],
   "source": [
    "companies = [\"Apple\", \"Microsoft\", \"Google\", \"Amazon\"]\n",
    "type(companies)"
   ]
  },
  {
   "cell_type": "markdown",
   "id": "86afbe4e",
   "metadata": {},
   "source": [
    "1b. Reading the elements"
   ]
  },
  {
   "cell_type": "code",
   "execution_count": 5,
   "id": "6e579752",
   "metadata": {},
   "outputs": [
    {
     "name": "stdout",
     "output_type": "stream",
     "text": [
      "Google\n"
     ]
    }
   ],
   "source": [
    "print(companies[2])"
   ]
  },
  {
   "cell_type": "markdown",
   "id": "7bbca516",
   "metadata": {},
   "source": [
    "1c. Negative indexing mean"
   ]
  },
  {
   "cell_type": "code",
   "execution_count": 6,
   "id": "13cfd04a",
   "metadata": {},
   "outputs": [
    {
     "name": "stdout",
     "output_type": "stream",
     "text": [
      "Google\n"
     ]
    }
   ],
   "source": [
    "print(companies[-2])"
   ]
  },
  {
   "cell_type": "markdown",
   "id": "8c438086",
   "metadata": {},
   "source": [
    "1d. Range of values and with negative indexing"
   ]
  },
  {
   "cell_type": "code",
   "execution_count": 7,
   "id": "d3112b3e",
   "metadata": {},
   "outputs": [
    {
     "name": "stdout",
     "output_type": "stream",
     "text": [
      "['Microsoft', 'Google']\n"
     ]
    }
   ],
   "source": [
    "print(companies[1:3])"
   ]
  },
  {
   "cell_type": "code",
   "execution_count": 8,
   "id": "cb9f83d4",
   "metadata": {},
   "outputs": [
    {
     "name": "stdout",
     "output_type": "stream",
     "text": [
      "['Microsoft', 'Google', 'Amazon']\n"
     ]
    }
   ],
   "source": [
    "print(companies[-3:])"
   ]
  },
  {
   "cell_type": "code",
   "execution_count": 9,
   "id": "2cc315ef",
   "metadata": {},
   "outputs": [
    {
     "name": "stdout",
     "output_type": "stream",
     "text": [
      "['Apple', 'Google']\n"
     ]
    }
   ],
   "source": [
    "print(companies[0:3:2])"
   ]
  },
  {
   "cell_type": "markdown",
   "id": "ed3a7cb0",
   "metadata": {},
   "source": [
    "1e. Adding an item (Append and Insert)"
   ]
  },
  {
   "cell_type": "code",
   "execution_count": 10,
   "id": "7d4202ff",
   "metadata": {},
   "outputs": [
    {
     "name": "stdout",
     "output_type": "stream",
     "text": [
      "['Apple', 'Microsoft', 'Google', 'Amazon', 'Tesla']\n"
     ]
    }
   ],
   "source": [
    "companies.append(\"Tesla\")\n",
    "print(companies)"
   ]
  },
  {
   "cell_type": "code",
   "execution_count": 13,
   "id": "d285d83e",
   "metadata": {},
   "outputs": [
    {
     "name": "stdout",
     "output_type": "stream",
     "text": [
      "['Apple', 'Microsoft', 'Facebook', 'Facebbok', 'Facebbok', 'Google', 'Amazon', 'Tesla']\n"
     ]
    }
   ],
   "source": [
    "companies.insert(2, \"Facebook\")\n",
    "print(companies)"
   ]
  },
  {
   "cell_type": "markdown",
   "id": "ee38a71a",
   "metadata": {},
   "source": [
    "1f. Remove, deleting and pop"
   ]
  },
  {
   "cell_type": "code",
   "execution_count": 17,
   "id": "bc951e16",
   "metadata": {},
   "outputs": [
    {
     "name": "stdout",
     "output_type": "stream",
     "text": [
      "['Apple', 'Microsoft', 'Facebook', 'Google', 'Amazon', 'Tesla']\n"
     ]
    }
   ],
   "source": [
    "companies.remove(\"Facebbok\")\n",
    "print(companies)"
   ]
  },
  {
   "cell_type": "code",
   "execution_count": 18,
   "id": "c82825ed",
   "metadata": {},
   "outputs": [
    {
     "name": "stdout",
     "output_type": "stream",
     "text": [
      "['Apple', 'Microsoft', 'Facebook', 'Google', 'Amazon', 'Tesla', 'Tesla']\n"
     ]
    }
   ],
   "source": [
    "companies.append(\"Tesla\")\n",
    "print(companies)"
   ]
  },
  {
   "cell_type": "code",
   "execution_count": 19,
   "id": "94ab33fd",
   "metadata": {},
   "outputs": [
    {
     "name": "stdout",
     "output_type": "stream",
     "text": [
      "['Apple', 'Microsoft', 'Facebook', 'Google', 'Amazon', 'Tesla']\n"
     ]
    }
   ],
   "source": [
    "del companies[6]\n",
    "print(companies)"
   ]
  },
  {
   "cell_type": "code",
   "execution_count": 20,
   "id": "c9cb781c",
   "metadata": {},
   "outputs": [
    {
     "name": "stdout",
     "output_type": "stream",
     "text": [
      "['Apple', 'Microsoft', 'Google', 'Amazon', 'Tesla']\n"
     ]
    }
   ],
   "source": [
    "companies.pop(2)\n",
    "print(companies)"
   ]
  },
  {
   "cell_type": "markdown",
   "id": "221de651",
   "metadata": {},
   "source": [
    "1g. Copy a list - why?"
   ]
  },
  {
   "cell_type": "code",
   "execution_count": 21,
   "id": "0159ef3b",
   "metadata": {},
   "outputs": [
    {
     "name": "stdout",
     "output_type": "stream",
     "text": [
      "True\n",
      "False\n"
     ]
    }
   ],
   "source": [
    "companies1 = companies\n",
    "companies2 = companies.copy() # copy() fucntion hold the data from at that time you use this function.\n",
    "print(companies1 is companies)\n",
    "print(companies2 is companies)"
   ]
  },
  {
   "cell_type": "code",
   "execution_count": 22,
   "id": "6710836b",
   "metadata": {},
   "outputs": [
    {
     "name": "stdout",
     "output_type": "stream",
     "text": [
      "['Apple', 'Microsoft', 'Google', 'Amazon', 'Tesla']\n",
      "['Apple', 'Microsoft', 'Google', 'Amazon', 'Tesla']\n"
     ]
    }
   ],
   "source": [
    "print(companies1)\n",
    "print(companies2)"
   ]
  },
  {
   "cell_type": "code",
   "execution_count": 24,
   "id": "fda4b9f8",
   "metadata": {},
   "outputs": [
    {
     "name": "stdout",
     "output_type": "stream",
     "text": [
      "['Apple', 'Microsoft', 'Google', 'Amazon', 'Tesla', 'IBM']\n",
      "['Apple', 'Microsoft', 'Google', 'Amazon', 'Tesla']\n"
     ]
    }
   ],
   "source": [
    "companies.append(\"IBM\")\n",
    "print(companies1)\n",
    "print(companies2)"
   ]
  },
  {
   "cell_type": "markdown",
   "id": "eb045185",
   "metadata": {},
   "source": [
    "1h. Combine Lists"
   ]
  },
  {
   "cell_type": "code",
   "execution_count": 26,
   "id": "4606a2d7",
   "metadata": {},
   "outputs": [
    {
     "name": "stdout",
     "output_type": "stream",
     "text": [
      "['Apple', 'Microsoft', 'Google', 'Amazon', 'Tesla', 'IBM', 'Apple', 'Microsoft', 'Google', 'Amazon', 'Tesla']\n"
     ]
    }
   ],
   "source": [
    "companies3 = companies1 + companies2\n",
    "print(companies3)"
   ]
  },
  {
   "cell_type": "code",
   "execution_count": 27,
   "id": "20691258",
   "metadata": {},
   "outputs": [
    {
     "name": "stdout",
     "output_type": "stream",
     "text": [
      "['Apple', 'Microsoft', 'Google', 'Amazon', 'Tesla', 'IBM', 'Apple', 'Microsoft', 'Google', 'Amazon', 'Tesla', 'Adobe']\n"
     ]
    }
   ],
   "source": [
    "companies3 = companies1 + companies2 + [\"Adobe\"] \n",
    "print(companies3)"
   ]
  },
  {
   "cell_type": "markdown",
   "id": "05106d2d",
   "metadata": {},
   "source": [
    "1i. Sorting"
   ]
  },
  {
   "cell_type": "code",
   "execution_count": 29,
   "id": "2c1093a9",
   "metadata": {},
   "outputs": [
    {
     "name": "stdout",
     "output_type": "stream",
     "text": [
      "['Amazon', 'Apple', 'Google', 'IBM', 'Microsoft', 'Tesla']\n"
     ]
    }
   ],
   "source": [
    "print(sorted(companies))"
   ]
  },
  {
   "cell_type": "markdown",
   "id": "492b11d0",
   "metadata": {},
   "source": [
    "1j.Clearing the list"
   ]
  },
  {
   "cell_type": "code",
   "execution_count": 30,
   "id": "3c86f55a",
   "metadata": {},
   "outputs": [
    {
     "name": "stdout",
     "output_type": "stream",
     "text": [
      "['Apple', 'Microsoft', 'Google', 'Amazon', 'Tesla', 'IBM']\n"
     ]
    }
   ],
   "source": [
    "companies3.clear()\n",
    "print(companies)"
   ]
  },
  {
   "cell_type": "markdown",
   "id": "2dba1c9a",
   "metadata": {},
   "source": [
    "1k. Other Operation"
   ]
  },
  {
   "cell_type": "code",
   "execution_count": 31,
   "id": "fb82cbb9",
   "metadata": {},
   "outputs": [
    {
     "name": "stdout",
     "output_type": "stream",
     "text": [
      "['Apple', 'Banana', 'Cherry', 'Orange', 'Apple', 'Banana', 'Cherry', 'Orange', 'Apple', 'Banana', 'Cherry', 'Orange']\n"
     ]
    }
   ],
   "source": [
    "fruits = [\"Apple\", \"Banana\", \"Cherry\", \"Orange\"]\n",
    "print(fruits*3)"
   ]
  },
  {
   "cell_type": "code",
   "execution_count": 32,
   "id": "d2507cf8",
   "metadata": {},
   "outputs": [
    {
     "name": "stdout",
     "output_type": "stream",
     "text": [
      "Orange\n"
     ]
    }
   ],
   "source": [
    "print(max(fruits))"
   ]
  },
  {
   "cell_type": "markdown",
   "id": "c0449336",
   "metadata": {},
   "source": [
    "2a. Tuples"
   ]
  },
  {
   "cell_type": "code",
   "execution_count": 33,
   "id": "36c33394",
   "metadata": {},
   "outputs": [
    {
     "name": "stdout",
     "output_type": "stream",
     "text": [
      "Tiger\n"
     ]
    }
   ],
   "source": [
    "animals = (\"Tiger\", \"Lion\", \"Monkey\", \"zebra\")\n",
    "print(animals[0])"
   ]
  },
  {
   "cell_type": "code",
   "execution_count": 34,
   "id": "251b69de",
   "metadata": {},
   "outputs": [
    {
     "ename": "TypeError",
     "evalue": "'tuple' object does not support item assignment",
     "output_type": "error",
     "traceback": [
      "\u001b[1;31m---------------------------------------------------------------------------\u001b[0m",
      "\u001b[1;31mTypeError\u001b[0m                                 Traceback (most recent call last)",
      "\u001b[1;32m~\\AppData\\Local\\Temp/ipykernel_2500/3646520333.py\u001b[0m in \u001b[0;36m<module>\u001b[1;34m\u001b[0m\n\u001b[1;32m----> 1\u001b[1;33m \u001b[0manimals\u001b[0m\u001b[1;33m[\u001b[0m\u001b[1;36m0\u001b[0m\u001b[1;33m]\u001b[0m \u001b[1;33m=\u001b[0m \u001b[1;34m\"Deer\"\u001b[0m\u001b[1;33m\u001b[0m\u001b[1;33m\u001b[0m\u001b[0m\n\u001b[0m\u001b[0;32m      2\u001b[0m \u001b[0mprint\u001b[0m\u001b[1;33m(\u001b[0m\u001b[0manimals\u001b[0m\u001b[1;33m)\u001b[0m\u001b[1;33m\u001b[0m\u001b[1;33m\u001b[0m\u001b[0m\n",
      "\u001b[1;31mTypeError\u001b[0m: 'tuple' object does not support item assignment"
     ]
    }
   ],
   "source": [
    "animals[0] = \"Deer\" # Tuple does not support changes\n",
    "print(animals)"
   ]
  },
  {
   "cell_type": "code",
   "execution_count": 35,
   "id": "c5681c83",
   "metadata": {},
   "outputs": [
    {
     "ename": "TypeError",
     "evalue": "'tuple' object doesn't support item deletion",
     "output_type": "error",
     "traceback": [
      "\u001b[1;31m---------------------------------------------------------------------------\u001b[0m",
      "\u001b[1;31mTypeError\u001b[0m                                 Traceback (most recent call last)",
      "\u001b[1;32m~\\AppData\\Local\\Temp/ipykernel_2500/3661225969.py\u001b[0m in \u001b[0;36m<module>\u001b[1;34m\u001b[0m\n\u001b[1;32m----> 1\u001b[1;33m \u001b[1;32mdel\u001b[0m \u001b[0manimals\u001b[0m\u001b[1;33m[\u001b[0m\u001b[1;36m1\u001b[0m\u001b[1;33m]\u001b[0m\u001b[1;33m\u001b[0m\u001b[1;33m\u001b[0m\u001b[0m\n\u001b[0m",
      "\u001b[1;31mTypeError\u001b[0m: 'tuple' object doesn't support item deletion"
     ]
    }
   ],
   "source": [
    "del animals[1] # Tuple does not support deletion"
   ]
  },
  {
   "cell_type": "code",
   "execution_count": 40,
   "id": "e9e69780",
   "metadata": {},
   "outputs": [
    {
     "name": "stdout",
     "output_type": "stream",
     "text": [
      "('Tiger', 'Lion', 'Monkey', 'zebra', [1, 2, 3], 1, 2)\n",
      "[1, 2, 3]\n"
     ]
    }
   ],
   "source": [
    "animals1 = (\"Tiger\", \"Lion\", \"Monkey\", \"zebra\", [1, 2, 3], 1, 2)\n",
    "print(animals1)\n",
    "print(animals1[4])"
   ]
  },
  {
   "cell_type": "markdown",
   "id": "a56c5c7b",
   "metadata": {},
   "source": [
    "**Practice Homework**\n",
    "\n",
    "Workout Example to try\n",
    "    1] Create a list\n",
    "    2] Print the 3rd item from last from the above list created\n",
    "    3] Append few additional values to the list\n",
    "    4] Multiple this list by 2 and see what happens\n",
    "    5] Create a tuple and check if you can delete the tuple\n",
    "    "
   ]
  },
  {
   "cell_type": "markdown",
   "id": "40460179",
   "metadata": {},
   "source": [
    "1] Create a list"
   ]
  },
  {
   "cell_type": "code",
   "execution_count": 42,
   "id": "1b65e8db",
   "metadata": {},
   "outputs": [],
   "source": [
    "cars = [\"Swift\", \"polo\", \"i20\", \"Magnite\"]"
   ]
  },
  {
   "cell_type": "markdown",
   "id": "e1da2511",
   "metadata": {},
   "source": [
    " 2] Print the 3rd item from last from the above list created"
   ]
  },
  {
   "cell_type": "code",
   "execution_count": 43,
   "id": "e0aa9d5d",
   "metadata": {},
   "outputs": [
    {
     "name": "stdout",
     "output_type": "stream",
     "text": [
      "polo\n"
     ]
    }
   ],
   "source": [
    "print(cars[-3])"
   ]
  },
  {
   "cell_type": "markdown",
   "id": "f5e6a208",
   "metadata": {},
   "source": [
    "3] Append few additional values to the list"
   ]
  },
  {
   "cell_type": "code",
   "execution_count": 44,
   "id": "00c6eb4c",
   "metadata": {},
   "outputs": [
    {
     "name": "stdout",
     "output_type": "stream",
     "text": [
      "['Swift', 'polo', 'i20', 'Magnite', 'Alto']\n"
     ]
    }
   ],
   "source": [
    "cars.append(\"Alto\")\n",
    "print(cars)"
   ]
  },
  {
   "cell_type": "markdown",
   "id": "250e4ede",
   "metadata": {},
   "source": [
    "4] Multiple this list by 2 and see what happens"
   ]
  },
  {
   "cell_type": "code",
   "execution_count": 45,
   "id": "373833b5",
   "metadata": {},
   "outputs": [
    {
     "name": "stdout",
     "output_type": "stream",
     "text": [
      "['Swift', 'polo', 'i20', 'Magnite', 'Alto', 'Swift', 'polo', 'i20', 'Magnite', 'Alto']\n"
     ]
    }
   ],
   "source": [
    "print(cars*2)"
   ]
  },
  {
   "cell_type": "markdown",
   "id": "97b9719e",
   "metadata": {},
   "source": [
    "5] Create a tuple and check if you can delete the tuple"
   ]
  },
  {
   "cell_type": "code",
   "execution_count": 46,
   "id": "6a11677d",
   "metadata": {},
   "outputs": [
    {
     "ename": "TypeError",
     "evalue": "'tuple' object doesn't support item deletion",
     "output_type": "error",
     "traceback": [
      "\u001b[1;31m---------------------------------------------------------------------------\u001b[0m",
      "\u001b[1;31mTypeError\u001b[0m                                 Traceback (most recent call last)",
      "\u001b[1;32m~\\AppData\\Local\\Temp/ipykernel_2500/2653624527.py\u001b[0m in \u001b[0;36m<module>\u001b[1;34m\u001b[0m\n\u001b[0;32m      1\u001b[0m \u001b[0mbikes\u001b[0m \u001b[1;33m=\u001b[0m \u001b[1;33m(\u001b[0m\u001b[1;34m\"CBR 100r\"\u001b[0m\u001b[1;33m,\u001b[0m \u001b[1;34m\"Kawasaki z800\"\u001b[0m\u001b[1;33m,\u001b[0m \u001b[1;34m\"Super Duke\"\u001b[0m\u001b[1;33m)\u001b[0m\u001b[1;33m\u001b[0m\u001b[1;33m\u001b[0m\u001b[0m\n\u001b[1;32m----> 2\u001b[1;33m \u001b[1;32mdel\u001b[0m \u001b[0mbikes\u001b[0m\u001b[1;33m[\u001b[0m\u001b[1;36m2\u001b[0m\u001b[1;33m]\u001b[0m\u001b[1;33m\u001b[0m\u001b[1;33m\u001b[0m\u001b[0m\n\u001b[0m",
      "\u001b[1;31mTypeError\u001b[0m: 'tuple' object doesn't support item deletion"
     ]
    }
   ],
   "source": [
    "bikes = (\"CBR 100r\", \"Kawasaki z800\", \"Super Duke\")\n",
    "del bikes[2]  # Tuple does not support deletion"
   ]
  }
 ],
 "metadata": {
  "kernelspec": {
   "display_name": "Python 3 (ipykernel)",
   "language": "python",
   "name": "python3"
  },
  "language_info": {
   "codemirror_mode": {
    "name": "ipython",
    "version": 3
   },
   "file_extension": ".py",
   "mimetype": "text/x-python",
   "name": "python",
   "nbconvert_exporter": "python",
   "pygments_lexer": "ipython3",
   "version": "3.9.7"
  }
 },
 "nbformat": 4,
 "nbformat_minor": 5
}
